{
 "cells": [
  {
   "cell_type": "markdown",
   "metadata": {},
   "source": [
    "# TV Script Generation\n",
    "In this project, you'll generate your own [Simpsons](https://en.wikipedia.org/wiki/The_Simpsons) TV scripts using RNNs.  You'll be using part of the [Simpsons dataset](https://www.kaggle.com/wcukierski/the-simpsons-by-the-data) of scripts from 27 seasons.  The Neural Network you'll build will generate a new TV script for a scene at [Moe's Tavern](https://simpsonswiki.com/wiki/Moe's_Tavern).\n",
    "## Get the Data\n",
    "The data is already provided for you.  You'll be using a subset of the original dataset.  It consists of only the scenes in Moe's Tavern.  This doesn't include other versions of the tavern, like \"Moe's Cavern\", \"Flaming Moe's\", \"Uncle Moe's Family Feed-Bag\", etc.."
   ]
  },
  {
   "cell_type": "code",
   "execution_count": 67,
   "metadata": {},
   "outputs": [],
   "source": [
    "\"\"\"\n",
    "DON'T MODIFY ANYTHING IN THIS CELL\n",
    "\"\"\"\n",
    "import helper\n",
    "\n",
    "data_dir = './data/simpsons/moes_tavern_lines.txt'\n",
    "text = helper.load_data(data_dir)\n",
    "# Ignore notice, since we don't use it for analysing the data\n",
    "text = text[81:]"
   ]
  },
  {
   "cell_type": "markdown",
   "metadata": {},
   "source": [
    "## Explore the Data\n",
    "Play around with `view_sentence_range` to view different parts of the data."
   ]
  },
  {
   "cell_type": "code",
   "execution_count": 68,
   "metadata": {},
   "outputs": [
    {
     "name": "stdout",
     "output_type": "stream",
     "text": [
      "Dataset Stats\n",
      "Roughly the number of unique words: 11492\n",
      "Number of scenes: 262\n",
      "Average number of sentences in each scene: 15.251908396946565\n",
      "Number of lines: 4258\n",
      "Average number of words in each line: 11.50164396430249\n",
      "\n",
      "The sentences 0 to 40:\n",
      "\n",
      "Moe_Szyslak: (INTO PHONE) Moe's Tavern. Where the elite meet to drink.\n",
      "Bart_Simpson: Eh, yeah, hello, is Mike there? Last name, Rotch.\n",
      "Moe_Szyslak: (INTO PHONE) Hold on, I'll check. (TO BARFLIES) Mike Rotch. Mike Rotch. Hey, has anybody seen Mike Rotch, lately?\n",
      "Moe_Szyslak: (INTO PHONE) Listen you little puke. One of these days I'm gonna catch you, and I'm gonna carve my name on your back with an ice pick.\n",
      "Moe_Szyslak: What's the matter Homer? You're not your normal effervescent self.\n",
      "Homer_Simpson: I got my problems, Moe. Give me another one.\n",
      "Moe_Szyslak: Homer, hey, you should not drink to forget your problems.\n",
      "Barney_Gumble: Yeah, you should only drink to enhance your social skills.\n",
      "\n",
      "\n",
      "Moe_Szyslak: Ah, isn't that nice. Now, there is a politician who cares.\n",
      "Barney_Gumble: If I ever vote, it'll be for him. (BELCH)\n",
      "\n",
      "\n",
      "Barney_Gumble: Hey Homer, how's your neighbor's store doing?\n",
      "Homer_Simpson: Lousy. He just sits there all day. He'd have a great job if he didn't own the place. (CHUCKLES)\n",
      "Moe_Szyslak: (STRUGGLING WITH CORKSCREW) Crummy right-handed corkscrews! What does he sell?\n",
      "Homer_Simpson: Uh, well actually, Moe...\n",
      "HOMER_(CONT'D: I dunno.\n",
      "\n",
      "\n",
      "Moe_Szyslak: Looks like this is the end.\n",
      "Barney_Gumble: That's all right. I couldn't have led a richer life.\n",
      "Barney_Gumble: So the next time somebody tells you county folk are good, honest people, you can spit in their faces for me!\n",
      "Lisa_Simpson: I will, Mr. Gumbel. But if you'll excuse me, I'm profiling my dad for the school paper. I thought it would be neat to follow him around for a day to see what makes him tick.\n",
      "Barney_Gumble: Oh, that's sweet. I used to follow my dad to a lot of bars too. (BELCH)\n",
      "Moe_Szyslak: Here you go. One beer, one chocolate milk.\n",
      "Lisa_Simpson: Uh, excuse me, I have the chocolate milk.\n",
      "Moe_Szyslak: Oh.\n",
      "Moe_Szyslak: What's the matter, Homer? The depressin' effects of alcohol usually don't kick in 'til closing time.\n",
      "Lisa_Simpson: He's just a little nervous. (PROUDLY) He has to give a speech tomorrow on \"How To Keep Cool In A Crisis.\"\n",
      "Homer_Simpson: (SOBS) What am I gonna do? What am I gonna do?\n",
      "Barney_Gumble: Hey, I had to give a speech once. I was pretty nervous, so I used a little trick. I pictured everyone in their underwear. The judge, the jury, my lawyer, everybody.\n",
      "Homer_Simpson: Did it work?\n",
      "Barney_Gumble: I'm a free man, ain't I?\n",
      "Barney_Gumble: Whoa!\n",
      "Barney_Gumble: Huh? A pretzel? Wow, looks like I pulled a Homer!\n",
      "\n",
      "\n"
     ]
    }
   ],
   "source": [
    "view_sentence_range = (0, 40)\n",
    "\n",
    "\"\"\"\n",
    "DON'T MODIFY ANYTHING IN THIS CELL\n",
    "\"\"\"\n",
    "import numpy as np\n",
    "\n",
    "print('Dataset Stats')\n",
    "print('Roughly the number of unique words: {}'.format(len({word: None for word in text.split()})))\n",
    "scenes = text.split('\\n\\n')\n",
    "print('Number of scenes: {}'.format(len(scenes)))\n",
    "sentence_count_scene = [scene.count('\\n') for scene in scenes]\n",
    "print('Average number of sentences in each scene: {}'.format(np.average(sentence_count_scene)))\n",
    "\n",
    "sentences = [sentence for scene in scenes for sentence in scene.split('\\n')]\n",
    "print('Number of lines: {}'.format(len(sentences)))\n",
    "word_count_sentence = [len(sentence.split()) for sentence in sentences]\n",
    "print('Average number of words in each line: {}'.format(np.average(word_count_sentence)))\n",
    "\n",
    "print()\n",
    "print('The sentences {} to {}:'.format(*view_sentence_range))\n",
    "print('\\n'.join(text.split('\\n')[view_sentence_range[0]:view_sentence_range[1]]))"
   ]
  },
  {
   "cell_type": "markdown",
   "metadata": {},
   "source": [
    "## Implement Preprocessing Functions\n",
    "The first thing to do to any dataset is preprocessing.  Implement the following preprocessing functions below:\n",
    "- Lookup Table\n",
    "- Tokenize Punctuation\n",
    "\n",
    "### Lookup Table\n",
    "To create a word embedding, you first need to transform the words to ids.  In this function, create two dictionaries:\n",
    "- Dictionary to go from the words to an id, we'll call `vocab_to_int`\n",
    "- Dictionary to go from the id to word, we'll call `int_to_vocab`\n",
    "\n",
    "Return these dictionaries in the following tuple `(vocab_to_int, int_to_vocab)`"
   ]
  },
  {
   "cell_type": "code",
   "execution_count": 83,
   "metadata": {},
   "outputs": [
    {
     "name": "stdout",
     "output_type": "stream",
     "text": [
      "Tests Passed\n"
     ]
    }
   ],
   "source": [
    "import numpy as np\n",
    "import problem_unittests as tests\n",
    "from collections import Counter\n",
    "\n",
    "def create_lookup_tables(text):\n",
    "    \"\"\"\n",
    "    Create lookup tables for vocabulary\n",
    "    :param text: The text of tv scripts split into words\n",
    "    :return: A tuple of dicts (vocab_to_int, int_to_vocab)\n",
    "    \"\"\"\n",
    "    # TODO: Implement Function\n",
    "    text = list(set(text))\n",
    "    word_counter = Counter(text)\n",
    "    sorted_words = sorted(word_counter, key=word_counter.get, reverse=True)\n",
    "    vocab_to_int = {word: i for i, word in enumerate(text)}\n",
    "    \n",
    "    int_to_vocab = {idx: word for word, idx in vocab_to_int.items()}\n",
    "    return (vocab_to_int, int_to_vocab)\n",
    "\n",
    "\n",
    "\"\"\"\n",
    "DON'T MODIFY ANYTHING IN THIS CELL THAT IS BELOW THIS LINE\n",
    "\"\"\"\n",
    "tests.test_create_lookup_tables(create_lookup_tables)"
   ]
  },
  {
   "cell_type": "markdown",
   "metadata": {},
   "source": [
    "### Tokenize Punctuation\n",
    "We'll be splitting the script into a word array using spaces as delimiters.  However, punctuations like periods and exclamation marks make it hard for the neural network to distinguish between the word \"bye\" and \"bye!\".\n",
    "\n",
    "Implement the function `token_lookup` to return a dict that will be used to tokenize symbols like \"!\" into \"||Exclamation_Mark||\".  Create a dictionary for the following symbols where the symbol is the key and value is the token:\n",
    "- Period ( . )\n",
    "- Comma ( , )\n",
    "- Quotation Mark ( \" )\n",
    "- Semicolon ( ; )\n",
    "- Exclamation mark ( ! )\n",
    "- Question mark ( ? )\n",
    "- Left Parentheses ( ( )\n",
    "- Right Parentheses ( ) )\n",
    "- Dash ( -- )\n",
    "- Return ( \\n )\n",
    "\n",
    "This dictionary will be used to token the symbols and add the delimiter (space) around it.  This separates the symbols as it's own word, making it easier for the neural network to predict on the next word. Make sure you don't use a token that could be confused as a word. Instead of using the token \"dash\", try using something like \"||dash||\"."
   ]
  },
  {
   "cell_type": "code",
   "execution_count": 84,
   "metadata": {},
   "outputs": [
    {
     "name": "stdout",
     "output_type": "stream",
     "text": [
      "Tests Passed\n"
     ]
    }
   ],
   "source": [
    "def token_lookup():\n",
    "    \"\"\"\n",
    "    Generate a dict to turn punctuation into a token.\n",
    "    :return: Tokenize dictionary where the key is the punctuation and the value is the token\n",
    "    \"\"\"\n",
    "    # TODO: Implement Function\n",
    "    token_dict = {'.': '<<PERIOD>>', ',': '<<COMMA>>', '\"': '<<QUOTATION_MARK>>', ';': '<<SEMICOLON>>',\n",
    "                 '!': '<<EXCLAMATION_MARK>>', '?': '<<QUESTION_MARK>>', '(': '<<LEFT_PARENTHESES>>',\n",
    "                 ')': '<<RIGHT_PARENTHESES>>', '--': '<<DASH>>', '\\n': '<<RETURN>>',}\n",
    "    return token_dict\n",
    "\n",
    "\"\"\"\n",
    "DON'T MODIFY ANYTHING IN THIS CELL THAT IS BELOW THIS LINE\n",
    "\"\"\"\n",
    "tests.test_tokenize(token_lookup)"
   ]
  },
  {
   "cell_type": "markdown",
   "metadata": {},
   "source": [
    "## Preprocess all the data and save it\n",
    "Running the code cell below will preprocess all the data and save it to file."
   ]
  },
  {
   "cell_type": "code",
   "execution_count": 85,
   "metadata": {},
   "outputs": [],
   "source": [
    "\"\"\"\n",
    "DON'T MODIFY ANYTHING IN THIS CELL\n",
    "\"\"\"\n",
    "# Preprocess Training, Validation, and Testing Data\n",
    "helper.preprocess_and_save_data(data_dir, token_lookup, create_lookup_tables)"
   ]
  },
  {
   "cell_type": "markdown",
   "metadata": {},
   "source": [
    "# Check Point\n",
    "This is your first checkpoint. If you ever decide to come back to this notebook or have to restart the notebook, you can start from here. The preprocessed data has been saved to disk."
   ]
  },
  {
   "cell_type": "code",
   "execution_count": 86,
   "metadata": {},
   "outputs": [],
   "source": [
    "\"\"\"\n",
    "DON'T MODIFY ANYTHING IN THIS CELL\n",
    "\"\"\"\n",
    "import helper\n",
    "import numpy as np\n",
    "import problem_unittests as tests\n",
    "\n",
    "int_text, vocab_to_int, int_to_vocab, token_dict = helper.load_preprocess()"
   ]
  },
  {
   "cell_type": "markdown",
   "metadata": {},
   "source": [
    "## Build the Neural Network\n",
    "You'll build the components necessary to build a RNN by implementing the following functions below:\n",
    "- get_inputs\n",
    "- get_init_cell\n",
    "- get_embed\n",
    "- build_rnn\n",
    "- build_nn\n",
    "- get_batches\n",
    "\n",
    "### Check the Version of TensorFlow and Access to GPU"
   ]
  },
  {
   "cell_type": "code",
   "execution_count": 87,
   "metadata": {},
   "outputs": [
    {
     "name": "stdout",
     "output_type": "stream",
     "text": [
      "TensorFlow Version: 1.5.0\n",
      "Default GPU Device: /device:GPU:0\n"
     ]
    }
   ],
   "source": [
    "\"\"\"\n",
    "DON'T MODIFY ANYTHING IN THIS CELL\n",
    "\"\"\"\n",
    "from distutils.version import LooseVersion\n",
    "import warnings\n",
    "import tensorflow as tf\n",
    "\n",
    "# Check TensorFlow Version\n",
    "assert LooseVersion(tf.__version__) >= LooseVersion('1.3'), 'Please use TensorFlow version 1.3 or newer'\n",
    "print('TensorFlow Version: {}'.format(tf.__version__))\n",
    "\n",
    "# Check for a GPU\n",
    "if not tf.test.gpu_device_name():\n",
    "    warnings.warn('No GPU found. Please use a GPU to train your neural network.')\n",
    "else:\n",
    "    print('Default GPU Device: {}'.format(tf.test.gpu_device_name()))"
   ]
  },
  {
   "cell_type": "markdown",
   "metadata": {},
   "source": [
    "### Input\n",
    "Implement the `get_inputs()` function to create TF Placeholders for the Neural Network.  It should create the following placeholders:\n",
    "- Input text placeholder named \"input\" using the [TF Placeholder](https://www.tensorflow.org/api_docs/python/tf/placeholder) `name` parameter.\n",
    "- Targets placeholder\n",
    "- Learning Rate placeholder\n",
    "\n",
    "Return the placeholders in the following tuple `(Input, Targets, LearningRate)`"
   ]
  },
  {
   "cell_type": "code",
   "execution_count": 88,
   "metadata": {},
   "outputs": [
    {
     "name": "stdout",
     "output_type": "stream",
     "text": [
      "Tests Passed\n"
     ]
    }
   ],
   "source": [
    "def get_inputs():\n",
    "    \"\"\"\n",
    "    Create TF Placeholders for input, targets, and learning rate.\n",
    "    :return: Tuple (input, targets, learning rate)\n",
    "    \"\"\"\n",
    "    # TODO: Implement Function\n",
    "    input_ = tf.placeholder(tf.int32, shape=(None, None), name='input')\n",
    "    targets_ = tf.placeholder(tf.int32, shape=(None, None), name='targets')\n",
    "    learning_rate = tf.placeholder(tf.float32, name='learning_rate')\n",
    "    return (input_, targets_, learning_rate)\n",
    "\n",
    "\n",
    "\"\"\"\n",
    "DON'T MODIFY ANYTHING IN THIS CELL THAT IS BELOW THIS LINE\n",
    "\"\"\"\n",
    "tests.test_get_inputs(get_inputs)"
   ]
  },
  {
   "cell_type": "markdown",
   "metadata": {},
   "source": [
    "### Build RNN Cell and Initialize\n",
    "Stack one or more [`BasicLSTMCells`](https://www.tensorflow.org/api_docs/python/tf/contrib/rnn/BasicLSTMCell) in a [`MultiRNNCell`](https://www.tensorflow.org/api_docs/python/tf/contrib/rnn/MultiRNNCell).\n",
    "- The Rnn size should be set using `rnn_size`\n",
    "- Initalize Cell State using the MultiRNNCell's [`zero_state()`](https://www.tensorflow.org/api_docs/python/tf/contrib/rnn/MultiRNNCell#zero_state) function\n",
    "    - Apply the name \"initial_state\" to the initial state using [`tf.identity()`](https://www.tensorflow.org/api_docs/python/tf/identity)\n",
    "\n",
    "Return the cell and initial state in the following tuple `(Cell, InitialState)`"
   ]
  },
  {
   "cell_type": "code",
   "execution_count": 89,
   "metadata": {},
   "outputs": [
    {
     "name": "stdout",
     "output_type": "stream",
     "text": [
      "Tests Passed\n"
     ]
    }
   ],
   "source": [
    "def get_init_cell(batch_size, rnn_size):\n",
    "    \"\"\"\n",
    "    Create an RNN Cell and initialize it.\n",
    "    :param batch_size: Size of batches\n",
    "    :param rnn_size: Size of RNNs\n",
    "    :return: Tuple (cell, initialize state)\n",
    "    \"\"\"\n",
    "    # TODO: Implement Function\n",
    "    def get_rnn_cell(size):\n",
    "        return tf.contrib.rnn.BasicLSTMCell(size)\n",
    "    \n",
    "    cell = tf.contrib.rnn.MultiRNNCell([get_rnn_cell(rnn_size) for _ in range(4)])\n",
    "    initial_state = tf.identity(cell.zero_state(batch_size, tf.float32), name='initial_state')\n",
    "    \n",
    "    return (cell, initial_state)\n",
    "\n",
    "\n",
    "\"\"\"\n",
    "DON'T MODIFY ANYTHING IN THIS CELL THAT IS BELOW THIS LINE\n",
    "\"\"\"\n",
    "tests.test_get_init_cell(get_init_cell)"
   ]
  },
  {
   "cell_type": "markdown",
   "metadata": {},
   "source": [
    "### Word Embedding\n",
    "Apply embedding to `input_data` using TensorFlow.  Return the embedded sequence."
   ]
  },
  {
   "cell_type": "code",
   "execution_count": 90,
   "metadata": {},
   "outputs": [
    {
     "name": "stdout",
     "output_type": "stream",
     "text": [
      "Tests Passed\n"
     ]
    }
   ],
   "source": [
    "def get_embed(input_data, vocab_size, embed_dim):\n",
    "    \"\"\"\n",
    "    Create embedding for <input_data>.\n",
    "    :param input_data: TF placeholder for text input.\n",
    "    :param vocab_size: Number of words in vocabulary.\n",
    "    :param embed_dim: Number of embedding dimensions\n",
    "    :return: Embedded input.\n",
    "    \"\"\"\n",
    "    # TODO: Implement Function\n",
    "    embedding = tf.Variable(tf.random_uniform((vocab_size, embed_dim), -1, 1, name='embedding'))\n",
    "    embed = tf.nn.embedding_lookup(embedding, input_data)\n",
    "    return embed\n",
    "\n",
    "\n",
    "\"\"\"\n",
    "DON'T MODIFY ANYTHING IN THIS CELL THAT IS BELOW THIS LINE\n",
    "\"\"\"\n",
    "tests.test_get_embed(get_embed)"
   ]
  },
  {
   "cell_type": "markdown",
   "metadata": {},
   "source": [
    "### Build RNN\n",
    "You created a RNN Cell in the `get_init_cell()` function.  Time to use the cell to create a RNN.\n",
    "- Build the RNN using the [`tf.nn.dynamic_rnn()`](https://www.tensorflow.org/api_docs/python/tf/nn/dynamic_rnn)\n",
    " - Apply the name \"final_state\" to the final state using [`tf.identity()`](https://www.tensorflow.org/api_docs/python/tf/identity)\n",
    "\n",
    "Return the outputs and final_state state in the following tuple `(Outputs, FinalState)` "
   ]
  },
  {
   "cell_type": "code",
   "execution_count": 91,
   "metadata": {},
   "outputs": [
    {
     "name": "stdout",
     "output_type": "stream",
     "text": [
      "Tests Passed\n"
     ]
    }
   ],
   "source": [
    "def build_rnn(cell, inputs):\n",
    "    \"\"\"\n",
    "    Create a RNN using a RNN Cell\n",
    "    :param cell: RNN Cell\n",
    "    :param inputs: Input text data\n",
    "    :return: Tuple (Outputs, Final State)\n",
    "    \"\"\"\n",
    "    # TODO: Implement Function\n",
    "    outputs, final_state_ = tf.nn.dynamic_rnn(cell, inputs, dtype=tf.float32)\n",
    "    final_state = tf.identity(final_state_, name='final_state')\n",
    "    return (outputs, final_state)\n",
    "\n",
    "\n",
    "\"\"\"\n",
    "DON'T MODIFY ANYTHING IN THIS CELL THAT IS BELOW THIS LINE\n",
    "\"\"\"\n",
    "tests.test_build_rnn(build_rnn)"
   ]
  },
  {
   "cell_type": "markdown",
   "metadata": {},
   "source": [
    "### Build the Neural Network\n",
    "Apply the functions you implemented above to:\n",
    "- Apply embedding to `input_data` using your `get_embed(input_data, vocab_size, embed_dim)` function.\n",
    "- Build RNN using `cell` and your `build_rnn(cell, inputs)` function.\n",
    "- Apply a fully connected layer with a linear activation and `vocab_size` as the number of outputs.\n",
    "\n",
    "Return the logits and final state in the following tuple (Logits, FinalState) "
   ]
  },
  {
   "cell_type": "code",
   "execution_count": 92,
   "metadata": {},
   "outputs": [
    {
     "name": "stdout",
     "output_type": "stream",
     "text": [
      "Tests Passed\n"
     ]
    }
   ],
   "source": [
    "def build_nn(cell, rnn_size, input_data, vocab_size, embed_dim):\n",
    "    \"\"\"\n",
    "    Build part of the neural network\n",
    "    :param cell: RNN cell\n",
    "    :param rnn_size: Size of rnns\n",
    "    :param input_data: Input data\n",
    "    :param vocab_size: Vocabulary size\n",
    "    :param embed_dim: Number of embedding dimensions\n",
    "    :return: Tuple (Logits, FinalState)\n",
    "    \"\"\"\n",
    "    # TODO: Implement Function\n",
    "    inputs = get_embed(input_data, vocab_size, embed_dim)\n",
    "    outputs, final_state = build_rnn(cell, inputs)\n",
    "    logits = tf.contrib.layers.fully_connected(outputs, vocab_size, activation_fn=None)\n",
    "    \n",
    "    return (logits, final_state)\n",
    "\n",
    "\n",
    "\"\"\"\n",
    "DON'T MODIFY ANYTHING IN THIS CELL THAT IS BELOW THIS LINE\n",
    "\"\"\"\n",
    "tests.test_build_nn(build_nn)"
   ]
  },
  {
   "cell_type": "markdown",
   "metadata": {},
   "source": [
    "### Batches\n",
    "Implement `get_batches` to create batches of input and targets using `int_text`.  The batches should be a Numpy array with the shape `(number of batches, 2, batch size, sequence length)`. Each batch contains two elements:\n",
    "- The first element is a single batch of **input** with the shape `[batch size, sequence length]`\n",
    "- The second element is a single batch of **targets** with the shape `[batch size, sequence length]`\n",
    "\n",
    "If you can't fill the last batch with enough data, drop the last batch.\n",
    "\n",
    "For example, `get_batches([1, 2, 3, 4, 5, 6, 7, 8, 9, 10, 11, 12, 13, 14, 15, 16, 17, 18, 19, 20], 3, 2)` would return a Numpy array of the following:\n",
    "```\n",
    "[\n",
    "  # First Batch\n",
    "  [\n",
    "    # Batch of Input\n",
    "    [[ 1  2], [ 7  8], [13 14]]\n",
    "    # Batch of targets\n",
    "    [[ 2  3], [ 8  9], [14 15]]\n",
    "  ]\n",
    "\n",
    "  # Second Batch\n",
    "  [\n",
    "    # Batch of Input\n",
    "    [[ 3  4], [ 9 10], [15 16]]\n",
    "    # Batch of targets\n",
    "    [[ 4  5], [10 11], [16 17]]\n",
    "  ]\n",
    "\n",
    "  # Third Batch\n",
    "  [\n",
    "    # Batch of Input\n",
    "    [[ 5  6], [11 12], [17 18]]\n",
    "    # Batch of targets\n",
    "    [[ 6  7], [12 13], [18  1]]\n",
    "  ]\n",
    "]\n",
    "```\n",
    "\n",
    "Notice that the last target value in the last batch is the first input value of the first batch. In this case, `1`. This is a common technique used when creating sequence batches, although it is rather unintuitive."
   ]
  },
  {
   "cell_type": "code",
   "execution_count": 93,
   "metadata": {},
   "outputs": [
    {
     "name": "stdout",
     "output_type": "stream",
     "text": [
      "Tests Passed\n"
     ]
    }
   ],
   "source": [
    "def get_batches(int_text, batch_size, seq_length):\n",
    "    \"\"\"\n",
    "    Return batches of input and target\n",
    "    :param int_text: Text with the words replaced by their ids\n",
    "    :param batch_size: The size of batch\n",
    "    :param seq_length: The length of sequence\n",
    "    :return: Batches as a Numpy array\n",
    "    \"\"\"\n",
    "    # TODO: Implement Function\n",
    "    chars_per_batch = batch_size * seq_length\n",
    "    num_batches = len(int_text)//(chars_per_batch)\n",
    "    \n",
    "    input_data = np.array(int_text[ : (num_batches * chars_per_batch)])\n",
    "    target_data = np.array(int_text[1 : (num_batches * chars_per_batch)+1])\n",
    "    target_data[-1] = input_data[0] # last target must be the first input\n",
    "    \n",
    "    inputs = input_data.reshape(batch_size, -1)\n",
    "    targets = target_data.reshape(batch_size, -1)\n",
    "    \n",
    "    inputs = np.split(inputs, num_batches, axis=1)\n",
    "    targets = np.split(targets, num_batches, axis=1)\n",
    "    \n",
    "    batches = np.array(list(zip(inputs, targets)))\n",
    "    \n",
    "    return batches\n",
    "\n",
    "\"\"\"\n",
    "DON'T MODIFY ANYTHING IN THIS CELL THAT IS BELOW THIS LINE\n",
    "\"\"\"\n",
    "tests.test_get_batches(get_batches)"
   ]
  },
  {
   "cell_type": "markdown",
   "metadata": {},
   "source": [
    "## Neural Network Training\n",
    "### Hyperparameters\n",
    "Tune the following parameters:\n",
    "\n",
    "- Set `num_epochs` to the number of epochs.\n",
    "- Set `batch_size` to the batch size.\n",
    "- Set `rnn_size` to the size of the RNNs.\n",
    "- Set `embed_dim` to the size of the embedding.\n",
    "- Set `seq_length` to the length of sequence.\n",
    "- Set `learning_rate` to the learning rate.\n",
    "- Set `show_every_n_batches` to the number of batches the neural network should print progress."
   ]
  },
  {
   "cell_type": "code",
   "execution_count": 215,
   "metadata": {},
   "outputs": [],
   "source": [
    "# Number of Epochs\n",
    "num_epochs = 120\n",
    "# Batch Size\n",
    "batch_size = 128\n",
    "# RNN Size\n",
    "rnn_size = 256\n",
    "# Embedding Dimension Size\n",
    "embed_dim = 400\n",
    "# Sequence Length\n",
    "seq_length = 7\n",
    "# Learning Rate\n",
    "learning_rate = 0.001\n",
    "# Show stats for every n number of batches\n",
    "show_every_n_batches = 33\n",
    "\n",
    "\"\"\"\n",
    "DON'T MODIFY ANYTHING IN THIS CELL THAT IS BELOW THIS LINE\n",
    "\"\"\"\n",
    "save_dir = './save'"
   ]
  },
  {
   "cell_type": "markdown",
   "metadata": {},
   "source": [
    "### Build the Graph\n",
    "Build the graph using the neural network you implemented."
   ]
  },
  {
   "cell_type": "code",
   "execution_count": 216,
   "metadata": {},
   "outputs": [],
   "source": [
    "\"\"\"\n",
    "DON'T MODIFY ANYTHING IN THIS CELL\n",
    "\"\"\"\n",
    "from tensorflow.contrib import seq2seq\n",
    "\n",
    "train_graph = tf.Graph()\n",
    "with train_graph.as_default():\n",
    "    vocab_size = len(int_to_vocab)\n",
    "    input_text, targets, lr = get_inputs()\n",
    "    input_data_shape = tf.shape(input_text)\n",
    "    cell, initial_state = get_init_cell(input_data_shape[0], rnn_size)\n",
    "    logits, final_state = build_nn(cell, rnn_size, input_text, vocab_size, embed_dim)\n",
    "\n",
    "    # Probabilities for generating words\n",
    "    probs = tf.nn.softmax(logits, name='probs')\n",
    "\n",
    "    # Loss function\n",
    "    cost = seq2seq.sequence_loss(\n",
    "        logits,\n",
    "        targets,\n",
    "        tf.ones([input_data_shape[0], input_data_shape[1]]))\n",
    "\n",
    "    # Optimizer\n",
    "    optimizer = tf.train.AdamOptimizer(lr)\n",
    "\n",
    "    # Gradient Clipping\n",
    "    gradients = optimizer.compute_gradients(cost)\n",
    "    capped_gradients = [(tf.clip_by_value(grad, -1., 1.), var) for grad, var in gradients if grad is not None]\n",
    "    train_op = optimizer.apply_gradients(capped_gradients)"
   ]
  },
  {
   "cell_type": "markdown",
   "metadata": {},
   "source": [
    "## Train\n",
    "Train the neural network on the preprocessed data.  If you have a hard time getting a good loss, check the [forums](https://discussions.udacity.com/) to see if anyone is having the same problem."
   ]
  },
  {
   "cell_type": "code",
   "execution_count": 217,
   "metadata": {
    "scrolled": true
   },
   "outputs": [
    {
     "name": "stdout",
     "output_type": "stream",
     "text": [
      "Epoch   0 Batch    0/77   train_loss = 8.822\n",
      "Epoch   0 Batch   33/77   train_loss = 6.366\n",
      "Epoch   0 Batch   66/77   train_loss = 6.237\n",
      "Epoch   1 Batch   22/77   train_loss = 6.072\n",
      "Epoch   1 Batch   55/77   train_loss = 6.135\n",
      "Epoch   2 Batch   11/77   train_loss = 6.119\n",
      "Epoch   2 Batch   44/77   train_loss = 6.027\n",
      "Epoch   3 Batch    0/77   train_loss = 5.886\n",
      "Epoch   3 Batch   33/77   train_loss = 6.011\n",
      "Epoch   3 Batch   66/77   train_loss = 5.999\n",
      "Epoch   4 Batch   22/77   train_loss = 6.111\n",
      "Epoch   4 Batch   55/77   train_loss = 6.108\n",
      "Epoch   5 Batch   11/77   train_loss = 6.113\n",
      "Epoch   5 Batch   44/77   train_loss = 6.017\n",
      "Epoch   6 Batch    0/77   train_loss = 5.862\n",
      "Epoch   6 Batch   33/77   train_loss = 6.005\n",
      "Epoch   6 Batch   66/77   train_loss = 5.990\n",
      "Epoch   7 Batch   22/77   train_loss = 6.095\n",
      "Epoch   7 Batch   55/77   train_loss = 6.097\n",
      "Epoch   8 Batch   11/77   train_loss = 6.092\n",
      "Epoch   8 Batch   44/77   train_loss = 6.011\n",
      "Epoch   9 Batch    0/77   train_loss = 5.852\n",
      "Epoch   9 Batch   33/77   train_loss = 5.995\n",
      "Epoch   9 Batch   66/77   train_loss = 5.973\n",
      "Epoch  10 Batch   22/77   train_loss = 6.085\n",
      "Epoch  10 Batch   55/77   train_loss = 6.083\n",
      "Epoch  11 Batch   11/77   train_loss = 6.079\n",
      "Epoch  11 Batch   44/77   train_loss = 6.004\n",
      "Epoch  12 Batch    0/77   train_loss = 5.837\n",
      "Epoch  12 Batch   33/77   train_loss = 5.983\n",
      "Epoch  12 Batch   66/77   train_loss = 5.961\n",
      "Epoch  13 Batch   22/77   train_loss = 6.071\n",
      "Epoch  13 Batch   55/77   train_loss = 6.067\n",
      "Epoch  14 Batch   11/77   train_loss = 6.035\n",
      "Epoch  14 Batch   44/77   train_loss = 5.832\n",
      "Epoch  15 Batch    0/77   train_loss = 5.473\n",
      "Epoch  15 Batch   33/77   train_loss = 5.576\n",
      "Epoch  15 Batch   66/77   train_loss = 5.407\n",
      "Epoch  16 Batch   22/77   train_loss = 5.319\n",
      "Epoch  16 Batch   55/77   train_loss = 5.249\n",
      "Epoch  17 Batch   11/77   train_loss = 5.133\n",
      "Epoch  17 Batch   44/77   train_loss = 4.952\n",
      "Epoch  18 Batch    0/77   train_loss = 4.716\n",
      "Epoch  18 Batch   33/77   train_loss = 4.951\n",
      "Epoch  18 Batch   66/77   train_loss = 4.859\n",
      "Epoch  19 Batch   22/77   train_loss = 4.818\n",
      "Epoch  19 Batch   55/77   train_loss = 4.793\n",
      "Epoch  20 Batch   11/77   train_loss = 4.761\n",
      "Epoch  20 Batch   44/77   train_loss = 4.602\n",
      "Epoch  21 Batch    0/77   train_loss = 4.370\n",
      "Epoch  21 Batch   33/77   train_loss = 4.605\n",
      "Epoch  21 Batch   66/77   train_loss = 4.519\n",
      "Epoch  22 Batch   22/77   train_loss = 4.544\n",
      "Epoch  22 Batch   55/77   train_loss = 4.475\n",
      "Epoch  23 Batch   11/77   train_loss = 4.479\n",
      "Epoch  23 Batch   44/77   train_loss = 4.304\n",
      "Epoch  24 Batch    0/77   train_loss = 4.096\n",
      "Epoch  24 Batch   33/77   train_loss = 4.339\n",
      "Epoch  24 Batch   66/77   train_loss = 4.232\n",
      "Epoch  25 Batch   22/77   train_loss = 4.297\n",
      "Epoch  25 Batch   55/77   train_loss = 4.277\n",
      "Epoch  26 Batch   11/77   train_loss = 4.242\n",
      "Epoch  26 Batch   44/77   train_loss = 4.113\n",
      "Epoch  27 Batch    0/77   train_loss = 3.936\n",
      "Epoch  27 Batch   33/77   train_loss = 4.152\n",
      "Epoch  27 Batch   66/77   train_loss = 3.984\n",
      "Epoch  28 Batch   22/77   train_loss = 4.053\n",
      "Epoch  28 Batch   55/77   train_loss = 4.077\n",
      "Epoch  29 Batch   11/77   train_loss = 4.009\n",
      "Epoch  29 Batch   44/77   train_loss = 3.913\n",
      "Epoch  30 Batch    0/77   train_loss = 3.653\n",
      "Epoch  30 Batch   33/77   train_loss = 3.931\n",
      "Epoch  30 Batch   66/77   train_loss = 3.803\n",
      "Epoch  31 Batch   22/77   train_loss = 3.972\n",
      "Epoch  31 Batch   55/77   train_loss = 3.858\n",
      "Epoch  32 Batch   11/77   train_loss = 3.892\n",
      "Epoch  32 Batch   44/77   train_loss = 3.769\n",
      "Epoch  33 Batch    0/77   train_loss = 3.527\n",
      "Epoch  33 Batch   33/77   train_loss = 3.747\n",
      "Epoch  33 Batch   66/77   train_loss = 3.589\n",
      "Epoch  34 Batch   22/77   train_loss = 3.668\n",
      "Epoch  34 Batch   55/77   train_loss = 3.678\n",
      "Epoch  35 Batch   11/77   train_loss = 3.653\n",
      "Epoch  35 Batch   44/77   train_loss = 3.528\n",
      "Epoch  36 Batch    0/77   train_loss = 3.340\n",
      "Epoch  36 Batch   33/77   train_loss = 3.468\n",
      "Epoch  36 Batch   66/77   train_loss = 3.409\n",
      "Epoch  37 Batch   22/77   train_loss = 3.464\n",
      "Epoch  37 Batch   55/77   train_loss = 3.456\n",
      "Epoch  38 Batch   11/77   train_loss = 3.449\n",
      "Epoch  38 Batch   44/77   train_loss = 3.381\n",
      "Epoch  39 Batch    0/77   train_loss = 3.125\n",
      "Epoch  39 Batch   33/77   train_loss = 3.354\n",
      "Epoch  39 Batch   66/77   train_loss = 3.223\n",
      "Epoch  40 Batch   22/77   train_loss = 3.249\n",
      "Epoch  40 Batch   55/77   train_loss = 3.381\n",
      "Epoch  41 Batch   11/77   train_loss = 3.279\n",
      "Epoch  41 Batch   44/77   train_loss = 3.224\n",
      "Epoch  42 Batch    0/77   train_loss = 3.017\n",
      "Epoch  42 Batch   33/77   train_loss = 3.155\n",
      "Epoch  42 Batch   66/77   train_loss = 3.165\n",
      "Epoch  43 Batch   22/77   train_loss = 3.083\n",
      "Epoch  43 Batch   55/77   train_loss = 3.136\n",
      "Epoch  44 Batch   11/77   train_loss = 3.163\n",
      "Epoch  44 Batch   44/77   train_loss = 3.074\n",
      "Epoch  45 Batch    0/77   train_loss = 2.842\n",
      "Epoch  45 Batch   33/77   train_loss = 3.026\n",
      "Epoch  45 Batch   66/77   train_loss = 2.939\n",
      "Epoch  46 Batch   22/77   train_loss = 2.952\n",
      "Epoch  46 Batch   55/77   train_loss = 3.091\n",
      "Epoch  47 Batch   11/77   train_loss = 2.968\n",
      "Epoch  47 Batch   44/77   train_loss = 2.989\n",
      "Epoch  48 Batch    0/77   train_loss = 2.756\n",
      "Epoch  48 Batch   33/77   train_loss = 2.895\n",
      "Epoch  48 Batch   66/77   train_loss = 2.838\n",
      "Epoch  49 Batch   22/77   train_loss = 2.815\n",
      "Epoch  49 Batch   55/77   train_loss = 3.007\n",
      "Epoch  50 Batch   11/77   train_loss = 2.816\n",
      "Epoch  50 Batch   44/77   train_loss = 2.849\n",
      "Epoch  51 Batch    0/77   train_loss = 2.615\n",
      "Epoch  51 Batch   33/77   train_loss = 2.687\n",
      "Epoch  51 Batch   66/77   train_loss = 2.735\n",
      "Epoch  52 Batch   22/77   train_loss = 2.625\n",
      "Epoch  52 Batch   55/77   train_loss = 2.802\n",
      "Epoch  53 Batch   11/77   train_loss = 2.711\n",
      "Epoch  53 Batch   44/77   train_loss = 2.661\n",
      "Epoch  54 Batch    0/77   train_loss = 2.542\n",
      "Epoch  54 Batch   33/77   train_loss = 2.608\n",
      "Epoch  54 Batch   66/77   train_loss = 2.579\n",
      "Epoch  55 Batch   22/77   train_loss = 2.583\n",
      "Epoch  55 Batch   55/77   train_loss = 2.619\n",
      "Epoch  56 Batch   11/77   train_loss = 2.548\n",
      "Epoch  56 Batch   44/77   train_loss = 2.517\n",
      "Epoch  57 Batch    0/77   train_loss = 2.302\n",
      "Epoch  57 Batch   33/77   train_loss = 2.422\n",
      "Epoch  57 Batch   66/77   train_loss = 2.412\n",
      "Epoch  58 Batch   22/77   train_loss = 2.316\n",
      "Epoch  58 Batch   55/77   train_loss = 2.490\n",
      "Epoch  59 Batch   11/77   train_loss = 2.342\n",
      "Epoch  59 Batch   44/77   train_loss = 2.359\n",
      "Epoch  60 Batch    0/77   train_loss = 2.179\n",
      "Epoch  60 Batch   33/77   train_loss = 2.247\n",
      "Epoch  60 Batch   66/77   train_loss = 2.257\n",
      "Epoch  61 Batch   22/77   train_loss = 2.207\n",
      "Epoch  61 Batch   55/77   train_loss = 2.341\n",
      "Epoch  62 Batch   11/77   train_loss = 2.232\n",
      "Epoch  62 Batch   44/77   train_loss = 2.220\n",
      "Epoch  63 Batch    0/77   train_loss = 2.096\n",
      "Epoch  63 Batch   33/77   train_loss = 2.184\n",
      "Epoch  63 Batch   66/77   train_loss = 2.230\n",
      "Epoch  64 Batch   22/77   train_loss = 2.089\n",
      "Epoch  64 Batch   55/77   train_loss = 2.317\n",
      "Epoch  65 Batch   11/77   train_loss = 2.306\n",
      "Epoch  65 Batch   44/77   train_loss = 2.217\n",
      "Epoch  66 Batch    0/77   train_loss = 2.082\n",
      "Epoch  66 Batch   33/77   train_loss = 2.117\n",
      "Epoch  66 Batch   66/77   train_loss = 2.112\n",
      "Epoch  67 Batch   22/77   train_loss = 1.974\n",
      "Epoch  67 Batch   55/77   train_loss = 2.133\n",
      "Epoch  68 Batch   11/77   train_loss = 1.994\n",
      "Epoch  68 Batch   44/77   train_loss = 2.023\n",
      "Epoch  69 Batch    0/77   train_loss = 1.855\n",
      "Epoch  69 Batch   33/77   train_loss = 1.905\n",
      "Epoch  69 Batch   66/77   train_loss = 1.877\n",
      "Epoch  70 Batch   22/77   train_loss = 1.770\n",
      "Epoch  70 Batch   55/77   train_loss = 1.958\n",
      "Epoch  71 Batch   11/77   train_loss = 1.842\n",
      "Epoch  71 Batch   44/77   train_loss = 1.876\n",
      "Epoch  72 Batch    0/77   train_loss = 1.742\n",
      "Epoch  72 Batch   33/77   train_loss = 1.784\n",
      "Epoch  72 Batch   66/77   train_loss = 1.775\n",
      "Epoch  73 Batch   22/77   train_loss = 1.690\n",
      "Epoch  73 Batch   55/77   train_loss = 1.875\n",
      "Epoch  74 Batch   11/77   train_loss = 1.795\n",
      "Epoch  74 Batch   44/77   train_loss = 1.758\n",
      "Epoch  75 Batch    0/77   train_loss = 1.684\n",
      "Epoch  75 Batch   33/77   train_loss = 1.735\n",
      "Epoch  75 Batch   66/77   train_loss = 1.754\n",
      "Epoch  76 Batch   22/77   train_loss = 1.671\n",
      "Epoch  76 Batch   55/77   train_loss = 1.833\n",
      "Epoch  77 Batch   11/77   train_loss = 1.829\n",
      "Epoch  77 Batch   44/77   train_loss = 1.714\n",
      "Epoch  78 Batch    0/77   train_loss = 1.637\n"
     ]
    },
    {
     "name": "stdout",
     "output_type": "stream",
     "text": [
      "Epoch  78 Batch   33/77   train_loss = 1.685\n",
      "Epoch  78 Batch   66/77   train_loss = 1.664\n",
      "Epoch  79 Batch   22/77   train_loss = 1.686\n",
      "Epoch  79 Batch   55/77   train_loss = 1.762\n",
      "Epoch  80 Batch   11/77   train_loss = 1.662\n",
      "Epoch  80 Batch   44/77   train_loss = 1.664\n",
      "Epoch  81 Batch    0/77   train_loss = 1.549\n",
      "Epoch  81 Batch   33/77   train_loss = 1.572\n",
      "Epoch  81 Batch   66/77   train_loss = 1.580\n",
      "Epoch  82 Batch   22/77   train_loss = 1.452\n",
      "Epoch  82 Batch   55/77   train_loss = 1.580\n",
      "Epoch  83 Batch   11/77   train_loss = 1.559\n",
      "Epoch  83 Batch   44/77   train_loss = 1.529\n",
      "Epoch  84 Batch    0/77   train_loss = 1.404\n",
      "Epoch  84 Batch   33/77   train_loss = 1.463\n",
      "Epoch  84 Batch   66/77   train_loss = 1.446\n",
      "Epoch  85 Batch   22/77   train_loss = 1.390\n",
      "Epoch  85 Batch   55/77   train_loss = 1.531\n",
      "Epoch  86 Batch   11/77   train_loss = 1.452\n",
      "Epoch  86 Batch   44/77   train_loss = 1.426\n",
      "Epoch  87 Batch    0/77   train_loss = 1.340\n",
      "Epoch  87 Batch   33/77   train_loss = 1.366\n",
      "Epoch  87 Batch   66/77   train_loss = 1.381\n",
      "Epoch  88 Batch   22/77   train_loss = 1.299\n",
      "Epoch  88 Batch   55/77   train_loss = 1.458\n",
      "Epoch  89 Batch   11/77   train_loss = 1.452\n",
      "Epoch  89 Batch   44/77   train_loss = 1.381\n",
      "Epoch  90 Batch    0/77   train_loss = 1.247\n",
      "Epoch  90 Batch   33/77   train_loss = 1.325\n",
      "Epoch  90 Batch   66/77   train_loss = 1.350\n",
      "Epoch  91 Batch   22/77   train_loss = 1.200\n",
      "Epoch  91 Batch   55/77   train_loss = 1.397\n",
      "Epoch  92 Batch   11/77   train_loss = 1.364\n",
      "Epoch  92 Batch   44/77   train_loss = 1.282\n",
      "Epoch  93 Batch    0/77   train_loss = 1.223\n",
      "Epoch  93 Batch   33/77   train_loss = 1.260\n",
      "Epoch  93 Batch   66/77   train_loss = 1.240\n",
      "Epoch  94 Batch   22/77   train_loss = 1.173\n",
      "Epoch  94 Batch   55/77   train_loss = 1.312\n",
      "Epoch  95 Batch   11/77   train_loss = 1.232\n",
      "Epoch  95 Batch   44/77   train_loss = 1.225\n",
      "Epoch  96 Batch    0/77   train_loss = 1.114\n",
      "Epoch  96 Batch   33/77   train_loss = 1.179\n",
      "Epoch  96 Batch   66/77   train_loss = 1.179\n",
      "Epoch  97 Batch   22/77   train_loss = 1.110\n",
      "Epoch  97 Batch   55/77   train_loss = 1.260\n",
      "Epoch  98 Batch   11/77   train_loss = 1.265\n",
      "Epoch  98 Batch   44/77   train_loss = 1.166\n",
      "Epoch  99 Batch    0/77   train_loss = 1.123\n",
      "Epoch  99 Batch   33/77   train_loss = 1.158\n",
      "Epoch  99 Batch   66/77   train_loss = 1.122\n",
      "Epoch 100 Batch   22/77   train_loss = 1.101\n",
      "Epoch 100 Batch   55/77   train_loss = 1.156\n",
      "Epoch 101 Batch   11/77   train_loss = 1.148\n",
      "Epoch 101 Batch   44/77   train_loss = 1.113\n",
      "Epoch 102 Batch    0/77   train_loss = 1.021\n",
      "Epoch 102 Batch   33/77   train_loss = 1.072\n",
      "Epoch 102 Batch   66/77   train_loss = 1.090\n",
      "Epoch 103 Batch   22/77   train_loss = 0.992\n",
      "Epoch 103 Batch   55/77   train_loss = 1.122\n",
      "Epoch 104 Batch   11/77   train_loss = 1.114\n",
      "Epoch 104 Batch   44/77   train_loss = 1.039\n",
      "Epoch 105 Batch    0/77   train_loss = 0.966\n",
      "Epoch 105 Batch   33/77   train_loss = 0.983\n",
      "Epoch 105 Batch   66/77   train_loss = 1.029\n",
      "Epoch 106 Batch   22/77   train_loss = 0.976\n",
      "Epoch 106 Batch   55/77   train_loss = 0.993\n",
      "Epoch 107 Batch   11/77   train_loss = 1.038\n",
      "Epoch 107 Batch   44/77   train_loss = 0.979\n",
      "Epoch 108 Batch    0/77   train_loss = 0.883\n",
      "Epoch 108 Batch   33/77   train_loss = 0.954\n",
      "Epoch 108 Batch   66/77   train_loss = 0.917\n",
      "Epoch 109 Batch   22/77   train_loss = 0.874\n",
      "Epoch 109 Batch   55/77   train_loss = 0.965\n",
      "Epoch 110 Batch   11/77   train_loss = 0.944\n",
      "Epoch 110 Batch   44/77   train_loss = 0.903\n",
      "Epoch 111 Batch    0/77   train_loss = 0.819\n",
      "Epoch 111 Batch   33/77   train_loss = 0.872\n",
      "Epoch 111 Batch   66/77   train_loss = 0.884\n",
      "Epoch 112 Batch   22/77   train_loss = 0.838\n",
      "Epoch 112 Batch   55/77   train_loss = 0.888\n",
      "Epoch 113 Batch   11/77   train_loss = 0.916\n",
      "Epoch 113 Batch   44/77   train_loss = 0.856\n",
      "Epoch 114 Batch    0/77   train_loss = 0.811\n",
      "Epoch 114 Batch   33/77   train_loss = 0.841\n",
      "Epoch 114 Batch   66/77   train_loss = 0.812\n",
      "Epoch 115 Batch   22/77   train_loss = 0.813\n",
      "Epoch 115 Batch   55/77   train_loss = 0.842\n",
      "Epoch 116 Batch   11/77   train_loss = 0.847\n",
      "Epoch 116 Batch   44/77   train_loss = 0.822\n",
      "Epoch 117 Batch    0/77   train_loss = 0.766\n",
      "Epoch 117 Batch   33/77   train_loss = 0.817\n",
      "Epoch 117 Batch   66/77   train_loss = 0.791\n",
      "Epoch 118 Batch   22/77   train_loss = 0.781\n",
      "Epoch 118 Batch   55/77   train_loss = 0.820\n",
      "Epoch 119 Batch   11/77   train_loss = 0.813\n",
      "Epoch 119 Batch   44/77   train_loss = 0.802\n",
      "Model Trained and Saved\n"
     ]
    }
   ],
   "source": [
    "\"\"\"\n",
    "DON'T MODIFY ANYTHING IN THIS CELL\n",
    "\"\"\"\n",
    "batches = get_batches(int_text, batch_size, seq_length)\n",
    "\n",
    "with tf.Session(graph=train_graph) as sess:\n",
    "    sess.run(tf.global_variables_initializer())\n",
    "\n",
    "    for epoch_i in range(num_epochs):\n",
    "        state = sess.run(initial_state, {input_text: batches[0][0]})\n",
    "\n",
    "        for batch_i, (x, y) in enumerate(batches):\n",
    "            feed = {\n",
    "                input_text: x,\n",
    "                targets: y,\n",
    "                initial_state: state,\n",
    "                lr: learning_rate}\n",
    "            train_loss, state, _ = sess.run([cost, final_state, train_op], feed)\n",
    "\n",
    "            # Show every <show_every_n_batches> batches\n",
    "            if (epoch_i * len(batches) + batch_i) % show_every_n_batches == 0:\n",
    "                print('Epoch {:>3} Batch {:>4}/{}   train_loss = {:.3f}'.format(\n",
    "                    epoch_i,\n",
    "                    batch_i,\n",
    "                    len(batches),\n",
    "                    train_loss))\n",
    "\n",
    "    # Save Model\n",
    "    saver = tf.train.Saver()\n",
    "    saver.save(sess, save_dir)\n",
    "    print('Model Trained and Saved')"
   ]
  },
  {
   "cell_type": "markdown",
   "metadata": {},
   "source": [
    "## Save Parameters\n",
    "Save `seq_length` and `save_dir` for generating a new TV script."
   ]
  },
  {
   "cell_type": "code",
   "execution_count": 218,
   "metadata": {},
   "outputs": [],
   "source": [
    "\"\"\"\n",
    "DON'T MODIFY ANYTHING IN THIS CELL\n",
    "\"\"\"\n",
    "# Save parameters for checkpoint\n",
    "helper.save_params((seq_length, save_dir))"
   ]
  },
  {
   "cell_type": "markdown",
   "metadata": {},
   "source": [
    "# Checkpoint"
   ]
  },
  {
   "cell_type": "code",
   "execution_count": 219,
   "metadata": {},
   "outputs": [],
   "source": [
    "\"\"\"\n",
    "DON'T MODIFY ANYTHING IN THIS CELL\n",
    "\"\"\"\n",
    "import tensorflow as tf\n",
    "import numpy as np\n",
    "import helper\n",
    "import problem_unittests as tests\n",
    "\n",
    "_, vocab_to_int, int_to_vocab, token_dict = helper.load_preprocess()\n",
    "seq_length, load_dir = helper.load_params()"
   ]
  },
  {
   "cell_type": "markdown",
   "metadata": {},
   "source": [
    "## Implement Generate Functions\n",
    "### Get Tensors\n",
    "Get tensors from `loaded_graph` using the function [`get_tensor_by_name()`](https://www.tensorflow.org/api_docs/python/tf/Graph#get_tensor_by_name).  Get the tensors using the following names:\n",
    "- \"input:0\"\n",
    "- \"initial_state:0\"\n",
    "- \"final_state:0\"\n",
    "- \"probs:0\"\n",
    "\n",
    "Return the tensors in the following tuple `(InputTensor, InitialStateTensor, FinalStateTensor, ProbsTensor)` "
   ]
  },
  {
   "cell_type": "code",
   "execution_count": 220,
   "metadata": {},
   "outputs": [
    {
     "name": "stdout",
     "output_type": "stream",
     "text": [
      "Tests Passed\n"
     ]
    }
   ],
   "source": [
    "def get_tensors(loaded_graph):\n",
    "    \"\"\"\n",
    "    Get input, initial state, final state, and probabilities tensor from <loaded_graph>\n",
    "    :param loaded_graph: TensorFlow graph loaded from file\n",
    "    :return: Tuple (InputTensor, InitialStateTensor, FinalStateTensor, ProbsTensor)\n",
    "    \"\"\"\n",
    "    # TODO: Implement Function\n",
    "    with loaded_graph.as_default() as g:\n",
    "        input_tensor = g.get_tensor_by_name(\"input:0\")\n",
    "        initial_state_tensor = g.get_tensor_by_name(\"initial_state:0\")\n",
    "        final_state_tensor = g.get_tensor_by_name(\"final_state:0\")\n",
    "        probs_tensor = g.get_tensor_by_name(\"probs:0\")\n",
    "        \n",
    "    return input_tensor, initial_state_tensor, final_state_tensor, probs_tensor\n",
    "\n",
    "\n",
    "\"\"\"\n",
    "DON'T MODIFY ANYTHING IN THIS CELL THAT IS BELOW THIS LINE\n",
    "\"\"\"\n",
    "tests.test_get_tensors(get_tensors)"
   ]
  },
  {
   "cell_type": "markdown",
   "metadata": {},
   "source": [
    "### Choose Word\n",
    "Implement the `pick_word()` function to select the next word using `probabilities`."
   ]
  },
  {
   "cell_type": "code",
   "execution_count": 221,
   "metadata": {},
   "outputs": [
    {
     "name": "stdout",
     "output_type": "stream",
     "text": [
      "Tests Passed\n"
     ]
    }
   ],
   "source": [
    "def pick_word(probabilities, int_to_vocab):\n",
    "    \"\"\"\n",
    "    Pick the next word in the generated text\n",
    "    :param probabilities: Probabilites of the next word\n",
    "    :param int_to_vocab: Dictionary of word ids as the keys and words as the values\n",
    "    :return: String of the predicted word\n",
    "    \"\"\"\n",
    "    # TODO: Implement Function\n",
    "    max_idx = np.argmax(probabilities)\n",
    "    return int_to_vocab[max_idx]\n",
    "\n",
    "\n",
    "\"\"\"\n",
    "DON'T MODIFY ANYTHING IN THIS CELL THAT IS BELOW THIS LINE\n",
    "\"\"\"\n",
    "tests.test_pick_word(pick_word)"
   ]
  },
  {
   "cell_type": "markdown",
   "metadata": {},
   "source": [
    "## Generate TV Script\n",
    "This will generate the TV script for you.  Set `gen_length` to the length of TV script you want to generate."
   ]
  },
  {
   "cell_type": "code",
   "execution_count": 222,
   "metadata": {},
   "outputs": [
    {
     "name": "stdout",
     "output_type": "stream",
     "text": [
      "INFO:tensorflow:Restoring parameters from ./save\n",
      "moe_szyslak:(pulls out a shotgun) that am and will ever the only night your deer for a world.\n",
      "moe_szyslak:(looks out) but i can't buy a little bit.\n",
      "lenny_leonard: who wants to bet artie?\n",
      "lenny_leonard:(upset) hello! i guess you'll get some beer with my kid and or are not so safer.\n",
      "barney_gumble: well, sure, i'd be supposed!\n",
      "moe_szyslak:(sadly, then moe.) i get a\"\" self.\n",
      "grampa_simpson:\" what, i've get this song here before, uh, what are i were better comin'.\n",
      "moe_szyslak:(to thought sounds) hey, it's myself with your car now! /(upset) what this comin' from for?\n",
      "fat_tony:(sighs) what?... i need one way a bottle!\n",
      "homer_simpson:(starts) homer, a secret knows like the super friends!\n",
      "carl_carlson: oh, no... if i think could let me think it's sunday.\n",
      "bart_simpson: oh, no.\n",
      "moe_szyslak: hey, don't worry\n"
     ]
    }
   ],
   "source": [
    "gen_length = 200\n",
    "# homer_simpson, moe_szyslak, or Barney_Gumble\n",
    "prime_word = 'moe_szyslak'\n",
    "\n",
    "\"\"\"\n",
    "DON'T MODIFY ANYTHING IN THIS CELL THAT IS BELOW THIS LINE\n",
    "\"\"\"\n",
    "loaded_graph = tf.Graph()\n",
    "with tf.Session(graph=loaded_graph) as sess:\n",
    "    # Load saved model\n",
    "    loader = tf.train.import_meta_graph(load_dir + '.meta')\n",
    "    loader.restore(sess, load_dir)\n",
    "\n",
    "    # Get Tensors from loaded model\n",
    "    input_text, initial_state, final_state, probs = get_tensors(loaded_graph)\n",
    "\n",
    "    # Sentences generation setup\n",
    "    gen_sentences = [prime_word + ':']\n",
    "    prev_state = sess.run(initial_state, {input_text: np.array([[1]])})\n",
    "\n",
    "    # Generate sentences\n",
    "    for n in range(gen_length):\n",
    "        # Dynamic Input\n",
    "        dyn_input = [[vocab_to_int[word] for word in gen_sentences[-seq_length:]]]\n",
    "        dyn_seq_length = len(dyn_input[0])\n",
    "\n",
    "        # Get Prediction\n",
    "        probabilities, prev_state = sess.run(\n",
    "            [probs, final_state],\n",
    "            {input_text: dyn_input, initial_state: prev_state})\n",
    "        \n",
    "        pred_word = pick_word(probabilities[0][dyn_seq_length-1], int_to_vocab)\n",
    "\n",
    "        gen_sentences.append(pred_word)\n",
    "    \n",
    "    # Remove tokens\n",
    "    tv_script = ' '.join(gen_sentences)\n",
    "    for key, token in token_dict.items():\n",
    "        ending = ' ' if key in ['\\n', '(', '\"'] else ''\n",
    "        tv_script = tv_script.replace(' ' + token.lower(), key)\n",
    "    tv_script = tv_script.replace('\\n ', '\\n')\n",
    "    tv_script = tv_script.replace('( ', '(')\n",
    "        \n",
    "    print(tv_script)"
   ]
  },
  {
   "cell_type": "markdown",
   "metadata": {},
   "source": [
    "# The TV Script is Nonsensical\n",
    "It's ok if the TV script doesn't make any sense.  We trained on less than a megabyte of text.  In order to get good results, you'll have to use a smaller vocabulary or get more data.  Luckily there's more data!  As we mentioned in the beggining of this project, this is a subset of [another dataset](https://www.kaggle.com/wcukierski/the-simpsons-by-the-data).  We didn't have you train on all the data, because that would take too long.  However, you are free to train your neural network on all the data.  After you complete the project, of course.\n",
    "# Submitting This Project\n",
    "When submitting this project, make sure to run all the cells before saving the notebook. Save the notebook file as \"dlnd_tv_script_generation.ipynb\" and save it as a HTML file under \"File\" -> \"Download as\". Include the \"helper.py\" and \"problem_unittests.py\" files in your submission."
   ]
  }
 ],
 "metadata": {
  "kernelspec": {
   "display_name": "Python 3",
   "language": "python",
   "name": "python3"
  },
  "language_info": {
   "codemirror_mode": {
    "name": "ipython",
    "version": 3
   },
   "file_extension": ".py",
   "mimetype": "text/x-python",
   "name": "python",
   "nbconvert_exporter": "python",
   "pygments_lexer": "ipython3",
   "version": "3.6.4"
  },
  "widgets": {
   "state": {},
   "version": "1.1.2"
  }
 },
 "nbformat": 4,
 "nbformat_minor": 1
}
